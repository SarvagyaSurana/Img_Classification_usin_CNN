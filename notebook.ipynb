{
 "cells": [
  {
   "cell_type": "markdown",
   "id": "b102be14",
   "metadata": {},
   "source": [
    "# 1. INITIALISATION"
   ]
  },
  {
   "cell_type": "code",
   "execution_count": 1,
   "id": "f9653dbe",
   "metadata": {},
   "outputs": [],
   "source": [
    "# Import necessary libraries and modules\n",
    "import matplotlib.pyplot as plt\n",
    "import torch\n",
    "import torchvision\n",
    "import torchvision.transforms as transforms\n",
    "import torch.nn as nn\n",
    "import torch.nn.functional as F\n",
    "from sklearn.metrics import accuracy_score, f1_score, precision_score, recall_score"
   ]
  },
  {
   "cell_type": "code",
   "execution_count": null,
   "id": "aeeefcd8",
   "metadata": {},
   "outputs": [],
   "source": [
    "# Check torch version\n",
    "torch.__version__"
   ]
  },
  {
   "cell_type": "markdown",
   "id": "544d2385",
   "metadata": {},
   "source": [
    "# 2. LOADING & TRANSFORMING DATASET"
   ]
  },
  {
   "cell_type": "code",
   "execution_count": 3,
   "id": "86bb7e99",
   "metadata": {},
   "outputs": [],
   "source": [
    "# Creating transformer for training data as a series of steps\n",
    "transform_train = transforms.Compose([\n",
    "    transforms.RandomRotation(10),\n",
    "    transforms.RandomHorizontalFlip(),\n",
    "    transforms.ColorJitter(brightness=0.2, contrast=0.2, saturation=0.2, hue=0.1),\n",
    "    transforms.ToTensor(),\n",
    "    transforms.Normalize((0.5, 0.5, 0.5), (0.5, 0.5, 0.5))\n",
    "])"
   ]
  },
  {
   "cell_type": "code",
   "execution_count": 5,
   "id": "4681ce9a",
   "metadata": {},
   "outputs": [],
   "source": [
    "# Creating transformer for testing data as a series of steps - without augmentation\n",
    "transform_test = transforms.Compose([\n",
    "    transforms.ToTensor(),\n",
    "    transforms.Normalize((0.5, 0.5, 0.5), (0.5, 0.5, 0.5))\n",
    "])"
   ]
  },
  {
   "cell_type": "code",
   "execution_count": 6,
   "id": "2f1d33f3",
   "metadata": {},
   "outputs": [
    {
     "name": "stdout",
     "output_type": "stream",
     "text": [
      "Files already downloaded and verified\n",
      "Files already downloaded and verified\n"
     ]
    }
   ],
   "source": [
    "# Loading the dataset from pytorch library\n",
    "data_train = torchvision.datasets.CIFAR10(root=\"../data/raw\", train=True, download=True, transform=transform_train)\n",
    "data_test = torchvision.datasets.CIFAR10(root=\"../data/raw\", train=False, download=True, transform=transform_test)"
   ]
  },
  {
   "cell_type": "code",
   "execution_count": 7,
   "id": "cefbb762",
   "metadata": {},
   "outputs": [],
   "source": [
    "# Initialize data loaders\n",
    "train_loader = torch.utils.data.DataLoader(data_train, batch_size=32, shuffle=True)\n",
    "test_loader = torch.utils.data.DataLoader(data_test, batch_size=32, shuffle=False)"
   ]
  },
  {
   "cell_type": "markdown",
   "id": "e85554fb",
   "metadata": {},
   "source": [
    "# 3. BUILDING CNN MODEL"
   ]
  },
  {
   "cell_type": "code",
   "execution_count": 8,
   "id": "3aa58758",
   "metadata": {},
   "outputs": [],
   "source": [
    "class CNN(nn.Module):\n",
    "    def __init__(self):\n",
    "        \n",
    "        super(CNN, self).__init__()\n",
    "        \n",
    "        # Define the convolutional layers\n",
    "        self.conv1 = nn.Conv2d(in_channels=3, out_channels=32, kernel_size=3, stride=1, padding=1)\n",
    "        self.conv2 = nn.Conv2d(in_channels=32, out_channels=64, kernel_size=3, stride=1, padding=1)\n",
    "        \n",
    "        # Define the pooling layers\n",
    "        self.pool = nn.MaxPool2d(kernel_size=2, stride=2, padding=0)\n",
    "        \n",
    "        # Define the fully connected layers\n",
    "        self.fc1 = nn.Linear(64 * 8 * 8, 128)  # 8 * 8 * 6 is the flattened dimension after pooling\n",
    "        self.fc2 = nn.Linear(128, 64)\n",
    "        self.fc3 = nn.Linear(64, 10)  # 10 output units for 10 classes\n",
    "\n",
    "    def forward(self, x):\n",
    "        \n",
    "        # Apply convolutional layers with ReLU activation and pooling\n",
    "        x = self.pool(F.relu(self.conv1(x)))\n",
    "        x = self.pool(F.relu(self.conv2(x)))\n",
    "        \n",
    "        # Flatten the output from the convolutional layers\n",
    "        x = x.view(-1, 64 * 8 * 8)\n",
    "        \n",
    "        # Apply fully connected layers with ReLU activation\n",
    "        x = F.relu(self.fc1(x))\n",
    "        x = F.relu(self.fc2(x))\n",
    "        \n",
    "        # Apply the output layer with softmax activation\n",
    "        x = self.fc3(x)\n",
    "        return F.log_softmax(x, dim=1)"
   ]
  },
  {
   "cell_type": "code",
   "execution_count": 9,
   "id": "87e31913",
   "metadata": {},
   "outputs": [],
   "source": [
    "# Initialize the model\n",
    "cnn = CNN()\n",
    "\n",
    "# Define the loss function (cross-entropy loss)\n",
    "criterion = nn.CrossEntropyLoss()\n",
    "\n",
    "# Define the optimizer (Adam optimizer)\n",
    "optimizer = torch.optim.Adam(cnn.parameters(), lr=0.001)"
   ]
  },
  {
   "cell_type": "markdown",
   "id": "27c2177a",
   "metadata": {},
   "source": [
    "# 4. TRAINING CNN MODEL"
   ]
  },
  {
   "cell_type": "code",
   "execution_count": 10,
   "id": "42103dec",
   "metadata": {},
   "outputs": [],
   "source": [
    "# Initialize metrics function\n",
    "def compute_metrics(outputs, labels):\n",
    "     # Convert model outputs to predicted labels\n",
    "    _, preds = torch.max(outputs, 1)\n",
    "    \n",
    "    # Convert labels and predictions to numpy arrays\n",
    "    labels = labels.cpu().numpy()\n",
    "    preds = preds.cpu().numpy()\n",
    "    \n",
    "    # Calculate accuracy, F1-score, precision, and recall\n",
    "    accuracy = accuracy_score(labels, preds)\n",
    "    f1 = f1_score(labels, preds, average='weighted')\n",
    "    precision = precision_score(labels, preds, average='weighted', zero_division=1)\n",
    "    recall = recall_score(labels, preds, average='weighted', zero_division=1)\n",
    "    \n",
    "    return accuracy, f1, precision, recall"
   ]
  },
  {
   "cell_type": "code",
   "execution_count": 12,
   "id": "8e5de7dd",
   "metadata": {},
   "outputs": [
    {
     "name": "stdout",
     "output_type": "stream",
     "text": [
      "Epoch [1/25], accuracy: 0.4643 - f1_score: 0.4501 - loss: 1.4851 - precision: 0.5961 - recall: 0.4643 - val_accuracy: 0.5934 - val_f1_score: 0.5839 - val_loss: 1.1306 - val_precision: 0.6668 - val_recall: 0.5934\n",
      "Epoch [2/25], accuracy: 0.6046 - f1_score: 0.6001 - loss: 1.1157 - precision: 0.6947 - recall: 0.6046 - val_accuracy: 0.6444 - val_f1_score: 0.6367 - val_loss: 1.0122 - val_precision: 0.7258 - val_recall: 0.6444\n",
      "Epoch [3/25], accuracy: 0.6579 - f1_score: 0.6545 - loss: 0.9697 - precision: 0.7357 - recall: 0.6579 - val_accuracy: 0.6906 - val_f1_score: 0.6887 - val_loss: 0.8757 - val_precision: 0.7587 - val_recall: 0.6906\n",
      "Epoch [4/25], accuracy: 0.6881 - f1_score: 0.6853 - loss: 0.8903 - precision: 0.7607 - recall: 0.6881 - val_accuracy: 0.7040 - val_f1_score: 0.7003 - val_loss: 0.8498 - val_precision: 0.7735 - val_recall: 0.7040\n",
      "Epoch [5/25], accuracy: 0.7080 - f1_score: 0.7068 - loss: 0.8312 - precision: 0.7767 - recall: 0.7080 - val_accuracy: 0.7102 - val_f1_score: 0.7027 - val_loss: 0.8322 - val_precision: 0.7785 - val_recall: 0.7102\n",
      "Epoch [6/25], accuracy: 0.7235 - f1_score: 0.7224 - loss: 0.7885 - precision: 0.7900 - recall: 0.7235 - val_accuracy: 0.7326 - val_f1_score: 0.7286 - val_loss: 0.7714 - val_precision: 0.7936 - val_recall: 0.7326\n",
      "Epoch [7/25], accuracy: 0.7368 - f1_score: 0.7349 - loss: 0.7510 - precision: 0.8009 - recall: 0.7368 - val_accuracy: 0.7378 - val_f1_score: 0.7344 - val_loss: 0.7679 - val_precision: 0.7976 - val_recall: 0.7378\n",
      "Epoch [8/25], accuracy: 0.7470 - f1_score: 0.7454 - loss: 0.7206 - precision: 0.8085 - recall: 0.7470 - val_accuracy: 0.7295 - val_f1_score: 0.7251 - val_loss: 0.7978 - val_precision: 0.7943 - val_recall: 0.7295\n",
      "Epoch [9/25], accuracy: 0.7563 - f1_score: 0.7552 - loss: 0.6943 - precision: 0.8161 - recall: 0.7563 - val_accuracy: 0.7544 - val_f1_score: 0.7519 - val_loss: 0.7363 - val_precision: 0.8094 - val_recall: 0.7544\n",
      "Epoch [10/25], accuracy: 0.7626 - f1_score: 0.7616 - loss: 0.6732 - precision: 0.8200 - recall: 0.7626 - val_accuracy: 0.7482 - val_f1_score: 0.7445 - val_loss: 0.7495 - val_precision: 0.8036 - val_recall: 0.7482\n",
      "Epoch [11/25], accuracy: 0.7716 - f1_score: 0.7708 - loss: 0.6516 - precision: 0.8279 - recall: 0.7716 - val_accuracy: 0.7552 - val_f1_score: 0.7532 - val_loss: 0.7323 - val_precision: 0.8108 - val_recall: 0.7552\n",
      "Epoch [12/25], accuracy: 0.7788 - f1_score: 0.7779 - loss: 0.6328 - precision: 0.8336 - recall: 0.7788 - val_accuracy: 0.7534 - val_f1_score: 0.7509 - val_loss: 0.7301 - val_precision: 0.8095 - val_recall: 0.7534\n",
      "Epoch [13/25], accuracy: 0.7829 - f1_score: 0.7820 - loss: 0.6176 - precision: 0.8370 - recall: 0.7829 - val_accuracy: 0.7483 - val_f1_score: 0.7466 - val_loss: 0.7373 - val_precision: 0.8040 - val_recall: 0.7483\n",
      "Epoch [14/25], accuracy: 0.7881 - f1_score: 0.7872 - loss: 0.6005 - precision: 0.8414 - recall: 0.7881 - val_accuracy: 0.7610 - val_f1_score: 0.7594 - val_loss: 0.7142 - val_precision: 0.8158 - val_recall: 0.7610\n",
      "Epoch [15/25], accuracy: 0.7932 - f1_score: 0.7920 - loss: 0.5929 - precision: 0.8442 - recall: 0.7932 - val_accuracy: 0.7582 - val_f1_score: 0.7565 - val_loss: 0.7291 - val_precision: 0.8164 - val_recall: 0.7582\n",
      "Epoch [16/25], accuracy: 0.7979 - f1_score: 0.7970 - loss: 0.5782 - precision: 0.8493 - recall: 0.7979 - val_accuracy: 0.7671 - val_f1_score: 0.7663 - val_loss: 0.7101 - val_precision: 0.8212 - val_recall: 0.7671\n",
      "Epoch [17/25], accuracy: 0.8028 - f1_score: 0.8030 - loss: 0.5660 - precision: 0.8533 - recall: 0.8028 - val_accuracy: 0.7639 - val_f1_score: 0.7636 - val_loss: 0.7194 - val_precision: 0.8193 - val_recall: 0.7639\n",
      "Epoch [18/25], accuracy: 0.8033 - f1_score: 0.8026 - loss: 0.5581 - precision: 0.8540 - recall: 0.8033 - val_accuracy: 0.7643 - val_f1_score: 0.7615 - val_loss: 0.7250 - val_precision: 0.8146 - val_recall: 0.7643\n",
      "Epoch [19/25], accuracy: 0.8054 - f1_score: 0.8042 - loss: 0.5530 - precision: 0.8550 - recall: 0.8054 - val_accuracy: 0.7691 - val_f1_score: 0.7673 - val_loss: 0.7109 - val_precision: 0.8216 - val_recall: 0.7691\n",
      "Epoch [20/25], accuracy: 0.8108 - f1_score: 0.8100 - loss: 0.5359 - precision: 0.8593 - recall: 0.8108 - val_accuracy: 0.7591 - val_f1_score: 0.7553 - val_loss: 0.7564 - val_precision: 0.8172 - val_recall: 0.7591\n",
      "Epoch [21/25], accuracy: 0.8155 - f1_score: 0.8146 - loss: 0.5263 - precision: 0.8626 - recall: 0.8155 - val_accuracy: 0.7664 - val_f1_score: 0.7652 - val_loss: 0.7189 - val_precision: 0.8210 - val_recall: 0.7664\n",
      "Epoch [22/25], accuracy: 0.8156 - f1_score: 0.8145 - loss: 0.5212 - precision: 0.8627 - recall: 0.8156 - val_accuracy: 0.7623 - val_f1_score: 0.7589 - val_loss: 0.7346 - val_precision: 0.8189 - val_recall: 0.7623\n",
      "Epoch [23/25], accuracy: 0.8208 - f1_score: 0.8197 - loss: 0.5094 - precision: 0.8674 - recall: 0.8208 - val_accuracy: 0.7710 - val_f1_score: 0.7683 - val_loss: 0.7176 - val_precision: 0.8225 - val_recall: 0.7710\n",
      "Epoch [24/25], accuracy: 0.8206 - f1_score: 0.8195 - loss: 0.5056 - precision: 0.8668 - recall: 0.8206 - val_accuracy: 0.7665 - val_f1_score: 0.7666 - val_loss: 0.7329 - val_precision: 0.8220 - val_recall: 0.7665\n",
      "Epoch [25/25], accuracy: 0.8227 - f1_score: 0.8218 - loss: 0.5007 - precision: 0.8678 - recall: 0.8227 - val_accuracy: 0.7691 - val_f1_score: 0.7669 - val_loss: 0.7150 - val_precision: 0.8229 - val_recall: 0.7691\n"
     ]
    }
   ],
   "source": [
    "# Number of epochs to train the model\n",
    "num_epochs = 25\n",
    "\n",
    "# Check if GPU is available\n",
    "device = torch.device(\"cuda\" if torch.cuda.is_available() else \"cpu\")\n",
    "\n",
    "# Move your model to the GPU\n",
    "cnn.to(device)\n",
    "\n",
    "# Set model to training mode\n",
    "cnn.train()\n",
    "\n",
    "# Lists to store training and validation metrics\n",
    "train_accuracies = []\n",
    "val_accuracies = []\n",
    "\n",
    "# Training loop\n",
    "for epoch in range(num_epochs):\n",
    "    \n",
    "    running_loss = 0.0\n",
    "    running_accuracy = 0.0\n",
    "    running_f1 = 0.0\n",
    "    running_precision = 0.0\n",
    "    running_recall = 0.0\n",
    "    for i, (inputs, labels) in enumerate(train_loader):\n",
    "        \n",
    "         # Move inputs and labels to the GPU\n",
    "        inputs, labels = inputs.to(device), labels.to(device)     \n",
    "        \n",
    "        # Initialize parameter gradients\n",
    "        optimizer.zero_grad()\n",
    "        \n",
    "        # Forward pass: compute model output\n",
    "        outputs = cnn(inputs)\n",
    "        \n",
    "        # Compute loss\n",
    "        loss = criterion(outputs, labels)\n",
    "        \n",
    "        # Backward pass: compute gradients\n",
    "        loss.backward()\n",
    "        \n",
    "        # Update model parameters\n",
    "        optimizer.step()\n",
    "        \n",
    "        # Accumulate loss\n",
    "        running_loss += loss.item()\n",
    "        \n",
    "        # Calculate metrics\n",
    "        accuracy, f1, precision, recall = compute_metrics(outputs, labels)\n",
    "        running_accuracy += accuracy\n",
    "        running_f1 += f1\n",
    "        running_precision += precision\n",
    "        running_recall += recall\n",
    "    \n",
    "    # Calculate average metrics for each epoch\n",
    "    avg_loss = running_loss / len(train_loader)\n",
    "    avg_accuracy = running_accuracy / len(train_loader)\n",
    "    avg_f1 = running_f1 / len(train_loader)\n",
    "    avg_precision = running_precision / len(train_loader)\n",
    "    avg_recall = running_recall / len(train_loader)\n",
    "    \n",
    "    # Store training accuracy\n",
    "    train_accuracies.append(avg_accuracy)\n",
    "    \n",
    "   # Set model to evaluation mode\n",
    "    cnn.eval()\n",
    "    \n",
    "    # Initialize evaluation metrics\n",
    "    eval_loss = 0.0\n",
    "    eval_accuracy = 0.0\n",
    "    eval_f1 = 0.0\n",
    "    eval_precision = 0.0\n",
    "    eval_recall = 0.0\n",
    "    \n",
    "    # Disable gradient computation for evaluation\n",
    "    with torch.no_grad():\n",
    "        for inputs, labels in test_loader:\n",
    "            \n",
    "            # Move inputs and labels to the GPU\n",
    "            inputs, labels = inputs.to(device), labels.to(device)\n",
    "            \n",
    "            # Forward pass: compute model output\n",
    "            outputs = cnn(inputs)\n",
    "            \n",
    "            # Compute loss\n",
    "            loss = criterion(outputs, labels)\n",
    "            \n",
    "            # Accumulate evaluation loss\n",
    "            eval_loss += loss.item()\n",
    "            \n",
    "            # Calculate metrics\n",
    "            accuracy, f1, precision, recall = compute_metrics(outputs, labels)\n",
    "            eval_accuracy += accuracy\n",
    "            eval_f1 += f1\n",
    "            eval_precision += precision\n",
    "            eval_recall += recall\n",
    "    \n",
    "    # Calculate average metrics for the evaluation set for each epoch\n",
    "    avg_eval_loss = eval_loss / len(test_loader)\n",
    "    avg_eval_accuracy = eval_accuracy / len(test_loader)\n",
    "    avg_eval_f1 = eval_f1 / len(test_loader)\n",
    "    avg_eval_precision = eval_precision / len(test_loader)\n",
    "    avg_eval_recall = eval_recall / len(test_loader)\n",
    "    \n",
    "    # Store validation accuracy\n",
    "    val_accuracies.append(avg_eval_accuracy)\n",
    "    \n",
    "    # Print average metrics for the epoch\n",
    "    print(f'Epoch [{epoch+1}/{num_epochs}], '\n",
    "          f'accuracy: {avg_accuracy:.4f} - f1_score: {avg_f1:.4f} - loss: {avg_loss:.4f} - '\n",
    "          f'precision: {avg_precision:.4f} - recall: {avg_recall:.4f} - '\n",
    "          f'val_accuracy: {avg_eval_accuracy:.4f} - val_f1_score: {avg_eval_f1:.4f} - val_loss: {avg_eval_loss:.4f} - '\n",
    "          f'val_precision: {avg_eval_precision:.4f} - val_recall: {avg_eval_recall:.4f}')\n",
    "        \n",
    "    # Set model back to training mode\n",
    "    cnn.train()"
   ]
  },
  {
   "cell_type": "markdown",
   "id": "425fc991",
   "metadata": {},
   "source": [
    "# 5. PERFORMANCE ANALYSIS"
   ]
  },
  {
   "cell_type": "code",
   "execution_count": 13,
   "id": "6ff06062",
   "metadata": {},
   "outputs": [
    {
     "data": {
      "image/png": "[encoded data removed]",
      "text/plain": [
       "<Figure size 640x480 with 1 Axes>"
      ]
     },
     "metadata": {},
     "output_type": "display_data"
    }
   ],
   "source": [
    "# Plot training & validation accuracy values\n",
    "plt.plot(train_accuracies)\n",
    "plt.plot(val_accuracies)\n",
    "plt.title('Model accuracy')\n",
    "plt.ylabel('Accuracy')\n",
    "plt.xlabel('Epoch')\n",
    "plt.legend(['Train', 'Validation'], loc='upper left')\n",
    "plt.show()"
   ]
  },
  {
   "cell_type": "code",
   "execution_count": null,
   "id": "90d4a576",
   "metadata": {},
   "outputs": [],
   "source": []
  }
 ],
 "metadata": {
  "kernelspec": {
   "display_name": "Python 3 (ipykernel)",
   "language": "python",
   "name": "python3"
  },
  "language_info": {
   "codemirror_mode": {
    "name": "ipython",
    "version": 3
   },
   "file_extension": ".py",
   "mimetype": "text/x-python",
   "name": "python",
   "nbconvert_exporter": "python",
   "pygments_lexer": "ipython3",
   "version": "3.11.4"
  }
 },
 "nbformat": 4,
 "nbformat_minor": 5
}
